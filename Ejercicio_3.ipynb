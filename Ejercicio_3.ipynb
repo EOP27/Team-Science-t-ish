{
 "cells": [
  {
   "cell_type": "markdown",
   "metadata": {},
   "source": [
    "# Ejercicio 3: Plot the monthly number of searches \n",
    "\n",
    "##       for flights arriving at Málaga, Madrid or Barcelona"
   ]
  },
  {
   "cell_type": "markdown",
   "metadata": {},
   "source": [
    "# Team Science t-ish\n",
    "\n",
    "## Importamos librerias"
   ]
  },
  {
   "cell_type": "code",
   "execution_count": 1,
   "metadata": {},
   "outputs": [],
   "source": [
    "import pandas as pd\n",
    "import matplotlib.pyplot as plt\n",
    "import seaborn as sns"
   ]
  },
  {
   "cell_type": "code",
   "execution_count": 2,
   "metadata": {},
   "outputs": [],
   "source": [
    "#Aeropuertos que queremos analizar: Madrid, Barcelona y Málaga\n",
    "iata_codes = [\"MAD\", \"BCN\", \"AGP\"]"
   ]
  },
  {
   "cell_type": "code",
   "execution_count": 3,
   "metadata": {},
   "outputs": [],
   "source": [
    "df_filter = pd.DataFrame()\n",
    "chunksize = 999999 \n",
    "\n",
    "reader =  pd.read_csv(\n",
    "    'searches.csv.bz2', \n",
    "    compression = \"bz2\", \n",
    "    sep = \"^\", \n",
    "    memory_map = True, \n",
    "    error_bad_lines = False,\n",
    "    usecols=[\"Date\",\"Destination\"],\n",
    "    chunksize=chunksize\n",
    ")"
   ]
  },
  {
   "cell_type": "code",
   "execution_count": 4,
   "metadata": {},
   "outputs": [
    {
     "name": "stdout",
     "output_type": "stream",
     "text": [
      "CPU times: user 1min 53s, sys: 2.74 s, total: 1min 56s\n",
      "Wall time: 1min 57s\n"
     ]
    }
   ],
   "source": [
    "%%time\n",
    "for df in reader:      \n",
    "    curr = df[df[\"Destination\"].isin(iata_codes)]\n",
    "    if df_filter.empty:\n",
    "        df_filter = curr\n",
    "    else:\n",
    "        df_filter = pd.concat([df_filter, curr])"
   ]
  },
  {
   "cell_type": "code",
   "execution_count": null,
   "metadata": {},
   "outputs": [],
   "source": [
    "df_filter.head(2)"
   ]
  },
  {
   "cell_type": "code",
   "execution_count": null,
   "metadata": {},
   "outputs": [],
   "source": [
    "df_filter.shape"
   ]
  },
  {
   "cell_type": "code",
   "execution_count": null,
   "metadata": {},
   "outputs": [],
   "source": [
    "df_filter['Date']=pd.to_datetime(df_filter['Date'])\n",
    "df_filter['Mes']=df_filter['Date'].dt.month"
   ]
  },
  {
   "cell_type": "code",
   "execution_count": null,
   "metadata": {},
   "outputs": [],
   "source": [
    "#Agrupo por destino y mes\n",
    "df_agrupado = df_filter.groupby(by=[\"Destination\", \"Mes\"]).count()"
   ]
  },
  {
   "cell_type": "code",
   "execution_count": null,
   "metadata": {},
   "outputs": [],
   "source": [
    "df_agrupado"
   ]
  },
  {
   "cell_type": "code",
   "execution_count": null,
   "metadata": {},
   "outputs": [],
   "source": [
    "df_agrupado_1 = df_agrupado.reset_index()  #Paso los Indices a Columnas\n",
    "df_agrupado_1.head(2)"
   ]
  },
  {
   "cell_type": "code",
   "execution_count": null,
   "metadata": {},
   "outputs": [],
   "source": [
    "#Renombramos el título del campo que arrastamos de \"Date\" a \"Cuenta\"\n",
    "df_agrupado_1 = df_agrupado_1.rename(columns={'Date': 'Cuenta'})\n",
    "df_agrupado_1.head()"
   ]
  },
  {
   "cell_type": "code",
   "execution_count": null,
   "metadata": {},
   "outputs": [],
   "source": [
    "fig, ax = plt.subplots(figsize=(10,8))\n",
    "\n",
    "#En eje X saco con .index todos los posibles valores de \"Mes\"\n",
    "eje_x=df_agrupado_1['Mes'].value_counts().index\n",
    "\n",
    "#En eje Y represento la cuenta total para cada mes y para cada Aeroupuerto\n",
    "\n",
    "sns.lineplot(data=df_agrupado_1, x=\"Mes\", y=\"Cuenta\", hue=\"Destination\", ax=ax)"
   ]
  },
  {
   "cell_type": "code",
   "execution_count": null,
   "metadata": {},
   "outputs": [],
   "source": [
    "d={'Meses': ['Enero','Febrero','Marzo','Abril','Mayo','Junio','Julio',\n",
    "             'Agosto','Septiembre','Octubre','Noviembre','Diciembre'],\n",
    "  'Mes': [1,2,3,4,5,6,7,8,9,10,11,12]}\n",
    "df_meses=pd.DataFrame(data=d)\n",
    "df_meses"
   ]
  },
  {
   "cell_type": "code",
   "execution_count": null,
   "metadata": {},
   "outputs": [],
   "source": [
    "#Hacemos un Merge entre la tabla de meses y la de agrupaciones\n",
    "df_agrupado_1 = pd.merge(df_agrupado_1, df_meses, on=\"Mes\", how='left')"
   ]
  },
  {
   "cell_type": "code",
   "execution_count": null,
   "metadata": {},
   "outputs": [],
   "source": [
    "df_agrupado_1"
   ]
  },
  {
   "cell_type": "markdown",
   "metadata": {},
   "source": [
    "## Rehacemos gráfica cambiando el eje x por los nombres de meses "
   ]
  },
  {
   "cell_type": "code",
   "execution_count": null,
   "metadata": {},
   "outputs": [],
   "source": [
    "fig, ax = plt.subplots(figsize=(10,8))\n",
    "\n",
    "#En eje X saco con .index todos los posibles valores de \"Mes\"\n",
    "eje_x=df_agrupado_1['Mes'].value_counts().index\n",
    "\n",
    "#En eje Y represento la cuenta total para cada mes y para cada Aeroupuerto\n",
    "\n",
    "sns.lineplot(data=df_agrupado_1, x=\"Meses\", y=\"Cuenta\", hue=\"Destination\", ax=ax)"
   ]
  },
  {
   "cell_type": "code",
   "execution_count": null,
   "metadata": {},
   "outputs": [],
   "source": []
  }
 ],
 "metadata": {
  "kernelspec": {
   "display_name": "Python 3",
   "language": "python",
   "name": "python3"
  },
  "language_info": {
   "codemirror_mode": {
    "name": "ipython",
    "version": 3
   },
   "file_extension": ".py",
   "mimetype": "text/x-python",
   "name": "python",
   "nbconvert_exporter": "python",
   "pygments_lexer": "ipython3",
   "version": "3.8.5"
  }
 },
 "nbformat": 4,
 "nbformat_minor": 4
}
