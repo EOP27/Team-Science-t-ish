{
 "cells": [
  {
   "cell_type": "markdown",
   "metadata": {},
   "source": [
    "# Ejercicio 1: Contar número de Lineas fichero"
   ]
  },
  {
   "cell_type": "markdown",
   "metadata": {},
   "source": [
    "# Team Science t-ish\n",
    "\n",
    "## Importamos librerias"
   ]
  },
  {
   "cell_type": "code",
   "execution_count": 1,
   "metadata": {},
   "outputs": [],
   "source": [
    "import numpy as np\n",
    "import pandas as pd\n",
    "import matplotlib.pyplot as plt\n",
    "import seaborn as sn\n",
    "import bz2\n",
    "import os"
   ]
  },
  {
   "cell_type": "code",
   "execution_count": 7,
   "metadata": {},
   "outputs": [
    {
     "name": "stdout",
     "output_type": "stream",
     "text": [
      "bookings.csv.bz2  Ejercicio_1.ipynb  Ejercicio_3.ipynb\tsearches.csv.bz2\r\n",
      "DS_Challenge.pdf  Ejercicio_2.ipynb  Ejercicio_4.ipynb\r\n"
     ]
    }
   ],
   "source": [
    "!ls"
   ]
  },
  {
   "cell_type": "code",
   "execution_count": null,
   "metadata": {},
   "outputs": [],
   "source": [
    "!ls /home/dsc/data/challenge/    #Ruta donde se encuentran los ficheros"
   ]
  },
  {
   "cell_type": "code",
   "execution_count": null,
   "metadata": {},
   "outputs": [],
   "source": [
    "#Copio los ficheros en la carpeta raiz\n",
    "!cp /home/dsc/data/challenge/bookings.csv.bz2 /home/dsc/Documents/Python/09.\\ Data\\ Science\\ challenge/\n",
    "!cp /home/dsc/data/challenge/searches.csv.bz2 /home/dsc/Documents/Python/09.\\ Data\\ Science\\ challenge/"
   ]
  },
  {
   "cell_type": "code",
   "execution_count": 30,
   "metadata": {},
   "outputs": [
    {
     "name": "stdout",
     "output_type": "stream",
     "text": [
      "CPU times: user 2min 1s, sys: 3.05 s, total: 2min 4s\n",
      "Wall time: 2min 5s\n"
     ]
    },
    {
     "data": {
      "text/plain": [
       "10000011"
      ]
     },
     "execution_count": 30,
     "metadata": {},
     "output_type": "execute_result"
    }
   ],
   "source": [
    "%%time\n",
    "fichero_1=bz2.open('bookings.csv.bz2', mode='r')\n",
    "count_1=0\n",
    "for line in fichero_1:\n",
    "    count_1 += 1\n",
    "\n",
    "fichero_1.close()\n",
    "count_1"
   ]
  },
  {
   "cell_type": "code",
   "execution_count": 31,
   "metadata": {},
   "outputs": [
    {
     "name": "stdout",
     "output_type": "stream",
     "text": [
      "CPU times: user 2min 24s, sys: 2.35 s, total: 2min 26s\n",
      "Wall time: 2min 27s\n"
     ]
    },
    {
     "data": {
      "text/plain": [
       "20390199"
      ]
     },
     "execution_count": 31,
     "metadata": {},
     "output_type": "execute_result"
    }
   ],
   "source": [
    "%%time\n",
    "fichero_2=bz2.open('searches.csv.bz2', mode='r')\n",
    "count_2=0\n",
    "for line in fichero_2:\n",
    "    count_2 += 1\n",
    "\n",
    "fichero_2.close()\n",
    "count_2"
   ]
  },
  {
   "cell_type": "code",
   "execution_count": 34,
   "metadata": {},
   "outputs": [
    {
     "name": "stdout",
     "output_type": "stream",
     "text": [
      "El nº de lineas del fichero 1 es: 10000011\n",
      "El nº de líneas del fichero 2 es: 20390199\n"
     ]
    }
   ],
   "source": [
    "print(f\"El nº de lineas del fichero 1 es: {count_1}\\nEl nº de líneas del fichero 2 es: {count_2}\")"
   ]
  },
  {
   "cell_type": "code",
   "execution_count": null,
   "metadata": {},
   "outputs": [],
   "source": []
  }
 ],
 "metadata": {
  "kernelspec": {
   "display_name": "Python 3",
   "language": "python",
   "name": "python3"
  },
  "language_info": {
   "codemirror_mode": {
    "name": "ipython",
    "version": 3
   },
   "file_extension": ".py",
   "mimetype": "text/x-python",
   "name": "python",
   "nbconvert_exporter": "python",
   "pygments_lexer": "ipython3",
   "version": "3.8.5"
  }
 },
 "nbformat": 4,
 "nbformat_minor": 4
}
