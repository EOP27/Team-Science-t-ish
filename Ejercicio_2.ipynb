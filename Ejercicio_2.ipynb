{
 "cells": [
  {
   "cell_type": "markdown",
   "metadata": {},
   "source": [
    "# Ejercicio 2: Top 10 arrival airports in 2013"
   ]
  },
  {
   "cell_type": "markdown",
   "metadata": {},
   "source": [
    "# Team Science t-ish\n",
    "\n",
    "## Importamos librerias"
   ]
  },
  {
   "cell_type": "code",
   "execution_count": null,
   "metadata": {},
   "outputs": [],
   "source": [
    "import numpy as np\n",
    "import pandas as pds\n",
    "import matplotlib.pyplot as plt\n",
    "import seaborn as sn\n",
    "import bz2\n",
    "import os"
   ]
  },
  {
   "cell_type": "code",
   "execution_count": null,
   "metadata": {},
   "outputs": [],
   "source": [
    "#Empleamos el fichero 'bookings.csv.bz2'"
   ]
  },
  {
   "cell_type": "code",
   "execution_count": null,
   "metadata": {},
   "outputs": [],
   "source": [
    "df_bookings=pd.read_csv('bookings.csv.bz2', sep='^', nrows=10) #Comprobamos las 10 primeras lineas"
   ]
  },
  {
   "cell_type": "code",
   "execution_count": null,
   "metadata": {
    "scrolled": true
   },
   "outputs": [],
   "source": [
    "df_booking"
   ]
  },
  {
   "cell_type": "code",
   "execution_count": null,
   "metadata": {},
   "outputs": [],
   "source": [
    "df_bookings=pd.read_csv('bookings.csv.bz2', sep='^', memory_map=True, error_bad_lines=False, nrows=10000)"
   ]
  },
  {
   "cell_type": "code",
   "execution_count": null,
   "metadata": {},
   "outputs": [],
   "source": [
    "Total_pasajeros=df_bookings['pax'].sum()\n",
    "Total_pasajeros"
   ]
  },
  {
   "cell_type": "code",
   "execution_count": null,
   "metadata": {},
   "outputs": [],
   "source": [
    "#Agrupamos por Aeropuertos / Cuantos booking tenemos y el nº de pasajeros, incluidos cancelaciones\n",
    "Tabla_booking_pasajeros=df_bookings.groupby('arr_port').agg({'arr_port': lambda x: x.value_counts(),\\\n",
    "                                             'pax':'sum'})\n",
    "Tabla_booking_pasajeros"
   ]
  },
  {
   "cell_type": "code",
   "execution_count": null,
   "metadata": {},
   "outputs": [],
   "source": [
    "#LEEMOS SOLO LAS COLUMNAS arr_port y pax mediante la función rad_csv y el argumento \"usecols\"\n",
    "df_bookings = pd.read_csv(\"bookings.csv.bz2\", compression= \"bz2\", sep = \"^\",\\\n",
    "                       error_bad_lines = False,\\\n",
    "                       memory_map = True,\\\n",
    "                       usecols = [\"arr_port\", \"pax\"])"
   ]
  },
  {
   "cell_type": "code",
   "execution_count": null,
   "metadata": {},
   "outputs": [],
   "source": [
    "df_bookings.head(5)"
   ]
  },
  {
   "cell_type": "code",
   "execution_count": null,
   "metadata": {
    "scrolled": true
   },
   "outputs": [],
   "source": [
    "df_bookings['pax']=df_bookings['pax'].astype(int)  #Quitamos decimales, pero me encuentro N#A"
   ]
  },
  {
   "cell_type": "code",
   "execution_count": null,
   "metadata": {},
   "outputs": [],
   "source": [
    "df_bookings=df_bookings.fillna({'pax':0})   #Rellenamos con 0 los campos  de pasajeros vacíos"
   ]
  },
  {
   "cell_type": "code",
   "execution_count": null,
   "metadata": {},
   "outputs": [],
   "source": [
    "pasajeros_por_aeropuerto=df_bookings.groupby('arr_port').sum()\n",
    "pasajeros_por_aeropuerto"
   ]
  },
  {
   "cell_type": "code",
   "execution_count": null,
   "metadata": {},
   "outputs": [],
   "source": [
    "pasajeros_por_aeropuerto.sort_values(by = \"pax\", ascending= False)[0:10]"
   ]
  },
  {
   "cell_type": "code",
   "execution_count": null,
   "metadata": {},
   "outputs": [],
   "source": []
  }
 ],
 "metadata": {
  "kernelspec": {
   "display_name": "Python 3",
   "language": "python",
   "name": "python3"
  },
  "language_info": {
   "codemirror_mode": {
    "name": "ipython",
    "version": 3
   },
   "file_extension": ".py",
   "mimetype": "text/x-python",
   "name": "python",
   "nbconvert_exporter": "python",
   "pygments_lexer": "ipython3",
   "version": "3.8.5"
  }
 },
 "nbformat": 4,
 "nbformat_minor": 4
}
